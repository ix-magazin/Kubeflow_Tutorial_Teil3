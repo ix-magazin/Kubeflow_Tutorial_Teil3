{
 "cells": [
  {
   "cell_type": "markdown",
   "id": "a37f2b5f-800b-4eb5-8258-91b49105163b",
   "metadata": {},
   "source": [
    "# Inflation Rate Time Series Prediction\n",
    "\n",
    "Regression resp. time series prediction example showing the usage of Alibi Explainers using a [Kaggle Dataset](https://www.kaggle.com/datasets/federalreserve/interest-rates).\n",
    "Get data via `wget https://ibm.box.com/shared/static/lb39fs3htuucg50ikkukg2esvy1xec4k.csv`\n",
    "\n",
    "## Authors\n",
    "\n",
    "Natalie Jann [natalie.jann@ibm.com](mailto:natalie.jann@ibm.com)\n",
    "\n",
    "Sebastian Lehrig [sebastian.lehrig1@ibm.com](mailto:sebastian.lehrig1@ibm.com)\n",
    "\n",
    "Marvin Giessing [MARVING@de.ibm.com](mailto:MARVING@de.ibm.com)\n",
    "\n",
    "## License\n",
    "Apache-2.0 License\n",
    "\n",
    "## 0.) Imports and Constants"
   ]
  },
  {
   "cell_type": "code",
   "execution_count": 29,
   "id": "f602f6e3-f935-4227-a240-3c0d5f65e2f1",
   "metadata": {},
   "outputs": [
    {
     "name": "stdout",
     "output_type": "stream",
     "text": [
      "The lab_black extension is already loaded. To reload it, use:\n",
      "  %reload_ext lab_black\n"
     ]
    }
   ],
   "source": [
    "import json\n",
    "import kfp\n",
    "from kfp.components import InputPath, OutputPath\n",
    "import kfp.dsl as dsl\n",
    "from kfp.dsl import PipelineConf, data_passing_methods\n",
    "from kubernetes.client.models import V1Volume, V1PersistentVolumeClaimVolumeSource\n",
    "import os\n",
    "from pydoc import importfile\n",
    "import requests\n",
    "from typing import NamedTuple\n",
    "\n",
    "%load_ext lab_black"
   ]
  },
  {
   "cell_type": "code",
   "execution_count": 64,
   "id": "ad8a3ec4-0c2c-49d4-bbd5-af9f2d9f61fa",
   "metadata": {},
   "outputs": [
    {
     "data": {
      "text/plain": [
       "{'blackboard': 'artefacts',\n",
       " 'model_name': 'inflation-time-series',\n",
       " 'cluster_configuration_secret': ''}"
      ]
     },
     "execution_count": 64,
     "metadata": {},
     "output_type": "execute_result"
    }
   ],
   "source": [
    "BASE_IMAGE = \"quay.io/ibm/kubeflow-notebook-image-ppc64le:latest\"\n",
    "\n",
    "COMPONENT_CATALOG_FOLDER = f\"{os.getenv('HOME')}/components\"\n",
    "COMPONENT_CATALOG_GIT = \"https://github.com/lehrig/kubeflow-ppc64le-components.git\"\n",
    "COMPONENT_CATALOG_RELEASE = \"main\"\n",
    "\n",
    "NUMBER_OF_WORKER = os.getenv(\"NUMBER_OF_WORKERS\", default=\"1\")\n",
    "\n",
    "ARGUMENTS = {\n",
    "    \"blackboard\": \"artefacts\",\n",
    "    \"model_name\": \"inflation-time-series\",\n",
    "    \"cluster_configuration_secret\": os.getenv(\n",
    "        \"CLUSTER_CONFIGURATION_SECRET\", default=\"\"\n",
    "    )\n",
    "}\n",
    "MODEL_NAME = ARGUMENTS[\"model_name\"]\n",
    "\n",
    "with open(\"/var/run/secrets/kubernetes.io/serviceaccount/namespace\") as f:\n",
    "    NAMESPACE = f.read()\n",
    "\n",
    "ARGUMENTS"
   ]
  },
  {
   "cell_type": "markdown",
   "id": "13dd0850-7009-4538-866e-53bc3b0e79a7",
   "metadata": {},
   "source": [
    "## 1.) Load catalog with reusable Kubeflow components"
   ]
  },
  {
   "cell_type": "code",
   "execution_count": 4,
   "id": "9b5f5784-b1e6-434a-a7f8-e8e9af45d6d8",
   "metadata": {},
   "outputs": [
    {
     "name": "stdout",
     "output_type": "stream",
     "text": [
      "fatal: destination path '/home/jovyan/components' already exists and is not an empty directory.\n"
     ]
    }
   ],
   "source": [
    "!git clone --branch $COMPONENT_CATALOG_RELEASE $COMPONENT_CATALOG_GIT $COMPONENT_CATALOG_FOLDER"
   ]
  },
  {
   "cell_type": "code",
   "execution_count": 31,
   "id": "75daec1e-d8eb-47a6-9c4a-23e693da8d28",
   "metadata": {},
   "outputs": [],
   "source": [
    "CATALOG = importfile(f\"{COMPONENT_CATALOG_FOLDER}/catalog.py\")"
   ]
  },
  {
   "cell_type": "markdown",
   "id": "e1a35cb1-5f43-4824-a351-8b862acc677b",
   "metadata": {},
   "source": [
    "## 2.) Create custom components\n",
    "### 2.1) Component: Preprocess data (dataset loading & splitting)"
   ]
  },
  {
   "cell_type": "code",
   "execution_count": 32,
   "id": "4f0bb5cb-0256-4c19-ba06-ac7ae2abcb72",
   "metadata": {},
   "outputs": [],
   "source": [
    "def preprocess_dataset(data_dir: InputPath(str), dataset_dir: OutputPath(str)):\n",
    "\n",
    "    import datetime\n",
    "    import os\n",
    "    import pandas as pd\n",
    "    from sklearn.model_selection import train_test_split\n",
    "\n",
    "    df = pd.read_feather(data_dir)  # pd.read_csv(\"/tmp/jovyan/interest-rates-1954.csv\")\n",
    "    print(f\"Loaded {len(df)} rows:\\n{df.head(2)}\")\n",
    "\n",
    "    df.dropna(subset=[\"inflation rate\"], inplace=True)\n",
    "    df[\"date\"] = df[[\"year\", \"month\", \"day\"]].apply(\n",
    "        lambda s: datetime.datetime(*s), axis=1\n",
    "    )\n",
    "    df.index = pd.PeriodIndex(df[\"date\"], freq=\"M\")\n",
    "    y = df[\"inflation rate\"].copy(deep=True)\n",
    "    df.drop(\n",
    "        columns=[\n",
    "            \"date\",\n",
    "            \"inflation rate\",\n",
    "            \"federal funds target rate\",\n",
    "            \"real gdp (percent change)\",\n",
    "            \"federal funds lower target\",\n",
    "            \"federal funds upper target\",\n",
    "            \"year\",\n",
    "            \"month\",\n",
    "            \"day\",\n",
    "        ],\n",
    "        inplace=True,\n",
    "    )\n",
    "    print(f\"{len(df)} rows after cleansing\")\n",
    "\n",
    "    x_train, x_test, y_train, y_test = train_test_split(\n",
    "        df, y, test_size=0.33, shuffle=False\n",
    "    )\n",
    "\n",
    "    if not os.path.exists(dataset_dir):\n",
    "        os.makedirs(dataset_dir)\n",
    "\n",
    "    x_train.to_csv(dataset_dir + \"/x_train.csv\")\n",
    "    x_test.to_csv(dataset_dir + \"/x_test.csv\")\n",
    "    y_train.to_csv(dataset_dir + \"/y_train.csv\")\n",
    "    y_test.to_csv(dataset_dir + \"/y_test.csv\")\n",
    "\n",
    "    print(\n",
    "        f\"Pre-processed dataset saved. Contents of '{dataset_dir}':\\n {os.listdir(dataset_dir)}\"\n",
    "    )\n",
    "\n",
    "\n",
    "preprocess_dataset_comp = kfp.components.create_component_from_func(\n",
    "    func=preprocess_dataset, base_image=BASE_IMAGE\n",
    ")"
   ]
  },
  {
   "cell_type": "markdown",
   "id": "97446a14-c3cc-4718-b670-0e2848cd5c9b",
   "metadata": {},
   "source": [
    "### 2.2) Components: model training, evaluation and conversion to ONNX\n",
    "#### 2.2.1) A Decision Tree Regressor making predictions based on one past inflation rate"
   ]
  },
  {
   "cell_type": "code",
   "execution_count": 33,
   "id": "a184e89d-9e45-4890-a062-aa395230d0ee",
   "metadata": {},
   "outputs": [],
   "source": [
    "def train_lagone_regressor(\n",
    "    dataset_dir: InputPath(str), model_dir: OutputPath(str)\n",
    ") -> NamedTuple(\"Lag1Regressor\", [(\"score\", float), (\"mae\", float), (\"mape\", float)]):\n",
    "\n",
    "    from collections import namedtuple\n",
    "    import numpy as np\n",
    "    import pandas as pd\n",
    "    from sklearn.metrics import mean_absolute_error\n",
    "    from sklearn.tree import DecisionTreeRegressor\n",
    "    from skl2onnx import convert_sklearn\n",
    "    from skl2onnx.common.data_types import FloatTensorType\n",
    "\n",
    "    y_train = pd.read_csv(dataset_dir + \"/y_train.csv\", index_col=0).iloc[:, 0]\n",
    "    y_test = pd.read_csv(dataset_dir + \"/y_test.csv\", index_col=0).iloc[:, 0]\n",
    "\n",
    "    x_train = y_train.copy(deep=True)[:-1].values.reshape(-1, 1)\n",
    "    y_train = y_train.shift(-1)[:-1].values\n",
    "    x_test = y_test[:-1].values.reshape(-1, 1)\n",
    "    y_test = y_test.shift(-1)[:-1].values\n",
    "    print(\n",
    "        f\"{len(x_train)} train and {len(x_test)} test records. \\n Training and Evaluation starts...\"\n",
    "    )\n",
    "\n",
    "    dt_reg = DecisionTreeRegressor().fit(x_train, y_train)\n",
    "    score = round(dt_reg.score(x_test, y_test), 2)\n",
    "    dt_pred = dt_reg.predict(x_test)\n",
    "    mae = round(mean_absolute_error(y_test, dt_pred), 2)\n",
    "    mape = round(np.mean(np.abs((y_test - dt_pred) / y_test)) * 100, 2)\n",
    "\n",
    "    output = namedtuple(\"Lag1Regressor\", [\"score\", \"mae\", \"mape\"])\n",
    "\n",
    "    print(\"Converting regressor to ONNX.\")\n",
    "    onx = convert_sklearn(\n",
    "        dt_reg,\n",
    "        initial_types=[(\"float_input\", FloatTensorType([None, 1]))],\n",
    "        target_opset={\"\": 15, \"ai.onnx.ml\": 2},\n",
    "    )\n",
    "    with open(model_dir, \"wb\") as f:\n",
    "        f.write(onx.SerializeToString())\n",
    "\n",
    "    return output(score, mae, mape)\n",
    "\n",
    "\n",
    "train_lagone_regressor_comp = kfp.components.create_component_from_func(\n",
    "    func=train_lagone_regressor, base_image=BASE_IMAGE, packages_to_install=[\"skl2onnx\"]\n",
    ")"
   ]
  },
  {
   "cell_type": "markdown",
   "id": "714353d6-0651-4952-ac04-4e4551328935",
   "metadata": {},
   "source": [
    "#### 2.2.2) A Decision Tree Regressor making predictions based on the Effective Federal Funds Rate and Unemployment Rate"
   ]
  },
  {
   "cell_type": "code",
   "execution_count": 34,
   "id": "ae815788-beea-4ab6-88cc-d84491ee5659",
   "metadata": {},
   "outputs": [],
   "source": [
    "def train_conditioned_regressor(\n",
    "    dataset_dir: InputPath(str), model_dir: OutputPath(str)\n",
    ") -> NamedTuple(\n",
    "    \"ConditionedRegressor\", [(\"score\", float), (\"mae\", float), (\"mape\", float)]\n",
    "):\n",
    "    from collections import namedtuple\n",
    "    import numpy as np\n",
    "    import pandas as pd\n",
    "    from sklearn.metrics import mean_absolute_error\n",
    "    from sklearn.tree import DecisionTreeRegressor\n",
    "    from skl2onnx import convert_sklearn\n",
    "    from skl2onnx.common.data_types import FloatTensorType\n",
    "\n",
    "    x_train = pd.read_csv(dataset_dir + \"/x_train.csv\", index_col=0)\n",
    "    x_test = pd.read_csv(dataset_dir + \"/x_test.csv\", index_col=0)\n",
    "    y_train = pd.read_csv(dataset_dir + \"/y_train.csv\", index_col=0)\n",
    "    y_test = pd.read_csv(dataset_dir + \"/y_test.csv\", index_col=0).iloc[:, 0].tolist()\n",
    "    print(\n",
    "        f\"{len(x_train)} train and {len(x_test)} test records. \\n Training and Evaluation starts...\"\n",
    "    )\n",
    "\n",
    "    dt_reg = DecisionTreeRegressor().fit(x_train, y_train)\n",
    "    score = round(dt_reg.score(x_test, y_test), 2)\n",
    "    dt_pred = dt_reg.predict(x_test)\n",
    "    mae = round(mean_absolute_error(y_test, dt_pred), 2)\n",
    "    mape = round(np.mean(np.abs((y_test - dt_pred) / y_test)) * 100, 2)\n",
    "\n",
    "    output = namedtuple(\"ConditionedRegressor\", [\"score\", \"mae\", \"mape\"])\n",
    "\n",
    "    print(\"Converting regressor to ONNX.\")\n",
    "    onx = convert_sklearn(\n",
    "        dt_reg,\n",
    "        initial_types=[(\"float_input\", FloatTensorType([None, len(x_train.columns)]))],\n",
    "    )\n",
    "    with open(model_dir, \"wb\") as f:\n",
    "        f.write(onx.SerializeToString())\n",
    "\n",
    "    return output(score, mae, mape)\n",
    "\n",
    "\n",
    "train_conditioned_regressor_comp = kfp.components.create_component_from_func(\n",
    "    func=train_conditioned_regressor,\n",
    "    base_image=BASE_IMAGE,\n",
    "    packages_to_install=[\"skl2onnx\"],\n",
    ")"
   ]
  },
  {
   "cell_type": "markdown",
   "id": "3976a0bb-82c9-4dbf-b5f6-d78eceb043d5",
   "metadata": {},
   "source": [
    "#### 2.2.3) A Decision Tree Regressor making predictions based on five past inflation rates"
   ]
  },
  {
   "cell_type": "code",
   "execution_count": 35,
   "id": "6887f348-d3dc-49e6-ae39-6c3e2ce045c5",
   "metadata": {},
   "outputs": [],
   "source": [
    "def train_lagn_regressor(\n",
    "    dataset_dir: InputPath(str), model_dir: OutputPath(str)\n",
    ") -> NamedTuple(\"LagNRegressor\", [(\"score\", float), (\"mae\", float), (\"mape\", float)]):\n",
    "\n",
    "    import numpy as np\n",
    "    import pandas as pd\n",
    "    from sklearn.metrics import mean_absolute_error\n",
    "    from sklearn.tree import DecisionTreeRegressor\n",
    "    from collections import namedtuple\n",
    "    from skl2onnx import convert_sklearn\n",
    "    from skl2onnx.common.data_types import FloatTensorType\n",
    "\n",
    "    train = pd.read_csv(dataset_dir + \"/y_train.csv\", index_col=0)\n",
    "    test = pd.read_csv(dataset_dir + \"/y_test.csv\", index_col=0)\n",
    "\n",
    "    def window_input(window_length: int, data: pd.DataFrame) -> pd.DataFrame:\n",
    "        df = data.copy(deep=True)\n",
    "        i = 1\n",
    "        while i < window_length:\n",
    "            df[f\"x_{i}\"] = df.iloc[:, 0].shift(-i)\n",
    "            i = i + 1\n",
    "\n",
    "        if i == window_length:\n",
    "            df[\"Y\"] = df.iloc[:, 0].shift(-i)\n",
    "        df = df.dropna(axis=0)\n",
    "        return df\n",
    "\n",
    "    df_train = window_input(5, train)\n",
    "    df_test = window_input(5, test)\n",
    "    print(\"Train data:\\n\", df_train.head(2), \"\\nTest data:\\n\", df_test.head(2))\n",
    "    print(\n",
    "        f\"{len(train)} train and {len(test)} test records. \\n Training and Evaluation starts...\"\n",
    "    )\n",
    "\n",
    "    dt_reg = DecisionTreeRegressor().fit(df_train.iloc[:, :-1], df_train[\"Y\"])\n",
    "    score = round(dt_reg.score(df_test.iloc[:, :-1], df_test[\"Y\"]), 2)\n",
    "    dt_pred = dt_reg.predict(df_test.iloc[:, :-1])\n",
    "    mae = round(mean_absolute_error(df_test[\"Y\"], dt_pred), 2)\n",
    "    mape = round(np.mean(np.abs((df_test[\"Y\"] - dt_pred) / df_test[\"Y\"])) * 100, 2)\n",
    "\n",
    "    output = namedtuple(\"LagNRegressor\", [\"score\", \"mae\", \"mape\"])\n",
    "\n",
    "    print(\"Converting regressor to ONNX.\")\n",
    "    onx = convert_sklearn(\n",
    "        dt_reg,\n",
    "        initial_types=[\n",
    "            (\"float_input\", FloatTensorType([None, len(df_train.iloc[:, :-1].columns)]))\n",
    "        ],\n",
    "    )\n",
    "    with open(model_dir, \"wb\") as f:\n",
    "        f.write(onx.SerializeToString())\n",
    "\n",
    "    return output(score, mae, mape)\n",
    "\n",
    "\n",
    "train_lagn_regressor_comp = kfp.components.create_component_from_func(\n",
    "    func=train_lagn_regressor, base_image=BASE_IMAGE, packages_to_install=[\"skl2onnx\"]\n",
    ")"
   ]
  },
  {
   "cell_type": "markdown",
   "id": "33e1e993-4c84-412c-8a76-0eaac44c369e",
   "metadata": {},
   "source": [
    "#### 2.2.4) A SARIMAX Regressor making predictions based on one past inflation rate"
   ]
  },
  {
   "cell_type": "code",
   "execution_count": 36,
   "id": "9a0d774a-e030-40f0-b683-a353f35f6d4f",
   "metadata": {},
   "outputs": [],
   "source": [
    "def train_sarimax_regressor(\n",
    "    dataset_dir: InputPath(str), model_dir: OutputPath(str)\n",
    ") -> NamedTuple(\n",
    "    \"SARIMAXRegressor\", [(\"score\", float), (\"mae\", float), (\"mape\", float)]\n",
    "):\n",
    "\n",
    "    import numpy as np\n",
    "    import pandas as pd\n",
    "    from collections import namedtuple\n",
    "    from sklearn.metrics import mean_absolute_error\n",
    "    from statsmodels.tsa.statespace.sarimax import SARIMAX\n",
    "\n",
    "    train = pd.read_csv(dataset_dir + \"/y_train.csv\")\n",
    "    train[\"date\"] = train[\"date\"].apply(lambda x: x + \"-01\")\n",
    "    train.set_index(\"date\", inplace=True)\n",
    "    train.index = pd.to_datetime(train.index)\n",
    "    train.index = train.index.to_period(\"M\")\n",
    "    test = pd.read_csv(dataset_dir + \"/y_test.csv\")\n",
    "    test = test[\"inflation rate\"].to_numpy()\n",
    "\n",
    "    sarimax = SARIMAX(\n",
    "        train,\n",
    "        order=(1, 2, 4),\n",
    "        seasonal_order=(3, 2, 3, 12),\n",
    "        enforce_stationarity=False,\n",
    "        enforce_invertibility=False,\n",
    "        freq=\"M\",\n",
    "    ).fit(disp=-1, maxiter=500, low_memory=True)\n",
    "    sm_pred = sarimax.forecast(len(test))\n",
    "    mae = round(mean_absolute_error(test, sm_pred), 2)\n",
    "    mape = round(\n",
    "        np.mean(np.abs((test - sm_pred) / test)) * 100,\n",
    "        2,\n",
    "    )\n",
    "    print(\"AIC:\", sarimax.aic, \"BIC:\", sarimax.bic)\n",
    "\n",
    "    output = namedtuple(\"SARIMAXRegressor\", [\"score\", \"mae\", \"mape\"])\n",
    "    return output(0, mae, mape)\n",
    "\n",
    "\n",
    "train_sarimax_regressor_comp = kfp.components.create_component_from_func(\n",
    "    func=train_sarimax_regressor, base_image=BASE_IMAGE\n",
    ")"
   ]
  },
  {
   "cell_type": "markdown",
   "id": "1d9a640c-3156-484d-8dc2-27eb586ce767",
   "metadata": {},
   "source": [
    "### 2.3) Component: Compare the performance of all regressors"
   ]
  },
  {
   "cell_type": "code",
   "execution_count": 37,
   "id": "a8c5b4e6-342c-4c1a-8ec5-f5b489b17d3d",
   "metadata": {},
   "outputs": [],
   "source": [
    "def compare_regressors(\n",
    "    metrics: list, mlpipeline_ui_metadata_path: OutputPath(str)\n",
    ") -> str:\n",
    "\n",
    "    from json import dump\n",
    "    import pandas as pd\n",
    "\n",
    "    df = pd.DataFrame({\"score\": [], \"mae\": [], \"mape\": []})\n",
    "    s = \"|Regressor|Score|MAE|MAPE|\\n|----|----|----|----|\\n\"\n",
    "\n",
    "    for m in metrics:\n",
    "        df.loc[m[0]] = [m[1], m[2], m[3]]\n",
    "        s += f\"|{m[0]}|{m[1]}|{m[2]}|{m[3]}|\\n\"\n",
    "\n",
    "    print(df)\n",
    "    metadata = {\n",
    "        \"outputs\": [\n",
    "            {\n",
    "                \"storage\": \"inline\",\n",
    "                \"source\": s,\n",
    "                \"type\": \"markdown\",\n",
    "            }\n",
    "        ]\n",
    "    }\n",
    "    best_regressor = list(\n",
    "        filter(\n",
    "            lambda x: float(x[3]) == min([float(line[3]) for line in metrics]), metrics\n",
    "        )\n",
    "    )[0][0]\n",
    "\n",
    "    with open(mlpipeline_ui_metadata_path, \"w\") as metadata_file:\n",
    "        dump(metadata, metadata_file)\n",
    "    return best_regressor\n",
    "\n",
    "\n",
    "compare_regressors_comp = kfp.components.create_component_from_func(\n",
    "    func=compare_regressors, base_image=BASE_IMAGE\n",
    ")"
   ]
  },
  {
   "cell_type": "markdown",
   "id": "1081932e-4b3e-40c2-bbaf-d74fd8e6cbea",
   "metadata": {},
   "source": [
    "## 3.) Create the actual pipeline by combining the components"
   ]
  },
  {
   "cell_type": "code",
   "execution_count": 65,
   "id": "123914eb-eb9f-4957-a9af-ef6e65e7cd76",
   "metadata": {},
   "outputs": [],
   "source": [
    "@dsl.pipeline(\n",
    "    name=\"Time Series Prediction\",\n",
    "    description=\"An example pipeline that performs time series prediction for inflation rates\",\n",
    ")\n",
    "def time_series_pipeline(\n",
    "    blackboard: str,\n",
    "    model_name: str,\n",
    "    cluster_configuration_secret: str,\n",
    "):\n",
    "    create_blackboard = dsl.VolumeOp(\n",
    "        name=\"Create Artefacts Blackboard\",\n",
    "        resource_name=blackboard,\n",
    "        modes=dsl.VOLUME_MODE_RWO,\n",
    "        size=\"4Gi\",\n",
    "        set_owner_reference=True,\n",
    "    )\n",
    "\n",
    "    load_dataframe_via_trino_task = CATALOG.load_dataframe_via_trino_comp(\n",
    "        query=\"SELECT * FROM interestrates\",\n",
    "        columns_query=\"SHOW COLUMNS FROM interestrates\",\n",
    "        catalog=\"postgresql\",\n",
    "        schema=\"public\",\n",
    "    )\n",
    "    load_dataframe_via_trino_task.after(create_blackboard)\n",
    "\n",
    "    preprocess_dataset_task = preprocess_dataset_comp(\n",
    "        data_dir=load_dataframe_via_trino_task.outputs[\"dataframe\"]\n",
    "    )\n",
    "    # preprocess_dataset_task.add_pvolumes(\n",
    "    #     {\"/tmp/jovyan\": dsl.PipelineVolume(pvc=\"time-series-volume\")}\n",
    "    # )\n",
    "    # preprocess_dataset_task.after(create_blackboard)\n",
    "\n",
    "    train_lagone_regressor_task = train_lagone_regressor_comp(\n",
    "        dataset_dir=preprocess_dataset_task.outputs[\"dataset_dir\"]\n",
    "    )\n",
    "\n",
    "    train_conditioned_regressor_task = train_conditioned_regressor_comp(\n",
    "        dataset_dir=preprocess_dataset_task.outputs[\"dataset_dir\"]\n",
    "    )\n",
    "\n",
    "    train_lagn_regressor_task = train_lagn_regressor_comp(\n",
    "        dataset_dir=preprocess_dataset_task.outputs[\"dataset_dir\"]\n",
    "    )\n",
    "    train_sarimax_regressor_task = train_sarimax_regressor_comp(\n",
    "        dataset_dir=preprocess_dataset_task.outputs[\"dataset_dir\"]\n",
    "    )\n",
    "\n",
    "    regressor_metrics = [\n",
    "        [\n",
    "            \"conditioned\",\n",
    "            train_conditioned_regressor_task.outputs[\"score\"],\n",
    "            train_conditioned_regressor_task.outputs[\"mae\"],\n",
    "            train_conditioned_regressor_task.outputs[\"mape\"],\n",
    "        ],\n",
    "        [\n",
    "            \"lagone\",\n",
    "            train_lagone_regressor_task.outputs[\"score\"],\n",
    "            train_lagone_regressor_task.outputs[\"mae\"],\n",
    "            train_lagone_regressor_task.outputs[\"mape\"],\n",
    "        ],\n",
    "        [\n",
    "            \"lagn\",\n",
    "            train_lagn_regressor_task.outputs[\"score\"],\n",
    "            train_lagn_regressor_task.outputs[\"mae\"],\n",
    "            train_lagn_regressor_task.outputs[\"mape\"],\n",
    "        ],\n",
    "        [\n",
    "            \"sarimax\",\n",
    "            train_sarimax_regressor_task.outputs[\"score\"],\n",
    "            train_sarimax_regressor_task.outputs[\"mae\"],\n",
    "            train_sarimax_regressor_task.outputs[\"mape\"],\n",
    "        ],\n",
    "    ]\n",
    "\n",
    "    compare_regressors_task = compare_regressors_comp(metrics=regressor_metrics)\n",
    "\n",
    "    with dsl.Condition(compare_regressors_task.output == \"lagone\"):\n",
    "        upload_model_task = CATALOG.upload_model_comp(\n",
    "            train_lagone_regressor_task.outputs[\"model_dir\"], project_name=model_name\n",
    "        )\n",
    "        deploy_model_with_kserve_task = CATALOG.deploy_model_with_kserve_comp(\n",
    "            project_name=model_name,\n",
    "            model_version=upload_model_task.outputs[\"model_version\"],\n",
    "        )\n",
    "\n",
    "        deploy_model_with_kserve_task.after(upload_model_task)\n",
    "\n",
    "    with dsl.Condition(compare_regressors_task.output == \"lagn\"):\n",
    "        upload_model_task = CATALOG.upload_model_comp(\n",
    "            train_lagn_regressor_task.outputs[\"model_dir\"], project_name=model_name\n",
    "        )\n",
    "        deploy_model_with_kserve_task = CATALOG.deploy_model_with_kserve_comp(\n",
    "            project_name=model_name,\n",
    "            model_version=upload_model_task.outputs[\"model_version\"],\n",
    "        )\n",
    "\n",
    "        deploy_model_with_kserve_task.after(upload_model_task)\n",
    "\n",
    "    with dsl.Condition(compare_regressors_task.output == \"conditioned\"):\n",
    "        upload_model_task = CATALOG.upload_model_comp(\n",
    "            train_conditioned_regressor_task.outputs[\"model_dir\"],\n",
    "            project_name=model_name,\n",
    "        )\n",
    "        deploy_model_with_kserve_task = CATALOG.deploy_model_with_kserve_comp(\n",
    "            project_name=model_name,\n",
    "            model_version=upload_model_task.outputs[\"model_version\"],\n",
    "        )\n",
    "\n",
    "        deploy_model_with_kserve_task.after(upload_model_task)"
   ]
  },
  {
   "cell_type": "markdown",
   "id": "446fb19e-8f96-4e76-84f6-8d96ce3e9daf",
   "metadata": {},
   "source": [
    "## 4.) Run the pipeline within an experiment\n",
    "\n",
    "Create a pipeline run, using a pipeline configuration that:\n",
    "\n",
    "- enables data passing via persistent volumes (faster than the default MinIO-based passing)\n",
    "- disables caching (which currently is not supported for data passing via volumes)"
   ]
  },
  {
   "cell_type": "code",
   "execution_count": 66,
   "id": "abc36564-84a5-4dc0-95cd-433a018409a1",
   "metadata": {},
   "outputs": [
    {
     "data": {
      "text/html": [
       "<a href=\"/pipeline/#/experiments/details/5a8f5bcf-1dd6-4627-8126-37cc2350da48\" target=\"_blank\" >Experiment details</a>."
      ],
      "text/plain": [
       "<IPython.core.display.HTML object>"
      ]
     },
     "metadata": {},
     "output_type": "display_data"
    },
    {
     "data": {
      "text/html": [
       "<a href=\"/pipeline/#/runs/details/4e129ae1-7a55-4ae0-a0f0-4e1f707e592c\" target=\"_blank\" >Run details</a>."
      ],
      "text/plain": [
       "<IPython.core.display.HTML object>"
      ]
     },
     "metadata": {},
     "output_type": "display_data"
    },
    {
     "data": {
      "text/plain": [
       "RunPipelineResult(run_id=4e129ae1-7a55-4ae0-a0f0-4e1f707e592c)"
      ]
     },
     "execution_count": 66,
     "metadata": {},
     "output_type": "execute_result"
    }
   ],
   "source": [
    "def disable_cache_transformer(op):\n",
    "    if isinstance(op, dsl.ContainerOp):\n",
    "        op.execution_options.caching_strategy.max_cache_staleness = \"P0D\"\n",
    "    else:\n",
    "        op.add_pod_annotation(\n",
    "            name=\"pipelines.kubeflow.org/max_cache_staleness\", value=\"P0D\"\n",
    "        )\n",
    "    return op\n",
    "\n",
    "\n",
    "pipeline_conf = PipelineConf()\n",
    "pipeline_conf.add_op_transformer(disable_cache_transformer)\n",
    "pipeline_conf.data_passing_method = data_passing_methods.KubernetesVolume(\n",
    "    volume=V1Volume(\n",
    "        name=ARGUMENTS[\"blackboard\"],\n",
    "        persistent_volume_claim=V1PersistentVolumeClaimVolumeSource(\n",
    "            \"{{workflow.name}}-%s\" % ARGUMENTS[\"blackboard\"]\n",
    "        ),\n",
    "    ),\n",
    "    path_prefix=f'{ARGUMENTS[\"blackboard\"]}/',\n",
    ")\n",
    "\n",
    "kfp.Client().create_run_from_pipeline_func(\n",
    "    time_series_pipeline,\n",
    "    arguments=ARGUMENTS,\n",
    "    namespace=NAMESPACE,\n",
    "    pipeline_conf=pipeline_conf,\n",
    ")"
   ]
  },
  {
   "cell_type": "markdown",
   "id": "b73df1d5-5427-4df8-aa6b-4b56bcb2d48a",
   "metadata": {},
   "source": [
    "## 5.) Inference"
   ]
  },
  {
   "cell_type": "code",
   "execution_count": 3,
   "id": "2fe9c4a4-cbcf-4bae-bfb7-25275917a1c7",
   "metadata": {},
   "outputs": [
    {
     "data": {
      "text/plain": [
       "{'name': 'model',\n",
       " 'versions': ['1'],\n",
       " 'platform': 'onnxruntime_onnx',\n",
       " 'inputs': [{'name': 'float_input', 'datatype': 'FP32', 'shape': [-1, 1]}],\n",
       " 'outputs': [{'name': 'variable', 'datatype': 'FP32', 'shape': [-1, 1]}]}"
      ]
     },
     "execution_count": 3,
     "metadata": {},
     "output_type": "execute_result"
    }
   ],
   "source": [
    "HOST = f\"{MODEL_NAME}-predictor-default.{NAMESPACE}\"\n",
    "HEADERS = {\"Host\": HOST}\n",
    "MODEL_ENDPOINT = f\"http://{MODEL_NAME}-predictor-default/v2/models/model\"\n",
    "\n",
    "res_svc = requests.get(MODEL_ENDPOINT, headers=HEADERS)\n",
    "response_svc = json.loads(res_svc.text)\n",
    "response_svc"
   ]
  },
  {
   "cell_type": "code",
   "execution_count": 45,
   "id": "e7035ef4-5da8-4b1e-87a1-cbdcc96434e1",
   "metadata": {},
   "outputs": [
    {
     "name": "stdout",
     "output_type": "stream",
     "text": [
      "Retrieved 50 rows\n"
     ]
    },
    {
     "data": {
      "text/html": [
       "<div>\n",
       "<style scoped>\n",
       "    .dataframe tbody tr th:only-of-type {\n",
       "        vertical-align: middle;\n",
       "    }\n",
       "\n",
       "    .dataframe tbody tr th {\n",
       "        vertical-align: top;\n",
       "    }\n",
       "\n",
       "    .dataframe thead th {\n",
       "        text-align: right;\n",
       "    }\n",
       "</style>\n",
       "<table border=\"1\" class=\"dataframe\">\n",
       "  <thead>\n",
       "    <tr style=\"text-align: right;\">\n",
       "      <th></th>\n",
       "      <th>year</th>\n",
       "      <th>month</th>\n",
       "      <th>day</th>\n",
       "      <th>federal funds target rate</th>\n",
       "      <th>federal funds upper target</th>\n",
       "      <th>federal funds lower target</th>\n",
       "      <th>effective federal funds rate</th>\n",
       "      <th>real gdp (percent change)</th>\n",
       "      <th>unemployment rate</th>\n",
       "      <th>inflation rate</th>\n",
       "    </tr>\n",
       "  </thead>\n",
       "  <tbody>\n",
       "    <tr>\n",
       "      <th>0</th>\n",
       "      <td>1954</td>\n",
       "      <td>7</td>\n",
       "      <td>1</td>\n",
       "      <td>None</td>\n",
       "      <td>None</td>\n",
       "      <td>None</td>\n",
       "      <td>0.80</td>\n",
       "      <td>4.6</td>\n",
       "      <td>5.8</td>\n",
       "      <td>NaN</td>\n",
       "    </tr>\n",
       "    <tr>\n",
       "      <th>1</th>\n",
       "      <td>1954</td>\n",
       "      <td>8</td>\n",
       "      <td>1</td>\n",
       "      <td>None</td>\n",
       "      <td>None</td>\n",
       "      <td>None</td>\n",
       "      <td>1.22</td>\n",
       "      <td>NaN</td>\n",
       "      <td>6.0</td>\n",
       "      <td>NaN</td>\n",
       "    </tr>\n",
       "  </tbody>\n",
       "</table>\n",
       "</div>"
      ],
      "text/plain": [
       "   year  month  day federal funds target rate federal funds upper target  \\\n",
       "0  1954      7    1                      None                       None   \n",
       "1  1954      8    1                      None                       None   \n",
       "\n",
       "  federal funds lower target  effective federal funds rate  \\\n",
       "0                       None                          0.80   \n",
       "1                       None                          1.22   \n",
       "\n",
       "   real gdp (percent change)  unemployment rate  inflation rate  \n",
       "0                        4.6                5.8             NaN  \n",
       "1                        NaN                6.0             NaN  "
      ]
     },
     "execution_count": 45,
     "metadata": {},
     "output_type": "execute_result"
    }
   ],
   "source": [
    "def get_data_table():\n",
    "    import pandas as pd\n",
    "    from trino.dbapi import Connection\n",
    "\n",
    "    with Connection(\n",
    "        host=\"trino.trino\",\n",
    "        port=\"8080\",\n",
    "        user=\"anybody\",\n",
    "        catalog=\"postgresql\",\n",
    "        schema=\"public\",\n",
    "    ) as conn:\n",
    "        link = conn.cursor()\n",
    "        link.execute(\"SELECT * FROM interestrates LIMIT 50\")\n",
    "        data = link.fetchall()\n",
    "        link.execute(\n",
    "            \"SELECT column_name FROM information_schema.columns WHERE table_name = 'interestrates'\"\n",
    "        )\n",
    "        column_names = [item for sublist in link.fetchall() for item in sublist]\n",
    "        return pd.DataFrame(data, columns=column_names)\n",
    "\n",
    "\n",
    "vdf = get_data_table()\n",
    "print(f\"Retrieved {len(vdf)} rows\")\n",
    "vdf.head(2)"
   ]
  },
  {
   "cell_type": "code",
   "execution_count": 46,
   "id": "0092d519-0fd3-49a2-ac5f-038a89428977",
   "metadata": {},
   "outputs": [
    {
     "name": "stdout",
     "output_type": "stream",
     "text": [
      "8 rows after cleansing\n"
     ]
    }
   ],
   "source": [
    "import datetime\n",
    "import pandas as pd\n",
    "\n",
    "vdf.dropna(subset=[\"inflation rate\"], inplace=True)\n",
    "vdf[\"date\"] = vdf[[\"year\", \"month\", \"day\"]].apply(\n",
    "    lambda s: datetime.datetime(*s), axis=1\n",
    ")\n",
    "vdf.index = pd.PeriodIndex(vdf[\"date\"], freq=\"M\")\n",
    "y = vdf[\"inflation rate\"].copy(deep=True)\n",
    "x_i = y[:-1].values.reshape(-1, 1)\n",
    "y_i = y.shift(-1)[:-1].values\n",
    "print(f\"{len(y)} rows after cleansing\")"
   ]
  },
  {
   "cell_type": "code",
   "execution_count": 59,
   "id": "46f78647-a496-4296-bbff-32da8f23e2e1",
   "metadata": {},
   "outputs": [
    {
     "name": "stdout",
     "output_type": "stream",
     "text": [
      "[{'name': 'variable', 'datatype': 'FP32', 'shape': [1, 1], 'data': [3.179999828338623]}]\n",
      "Actual (3.2) vs. Prediction (3.18)\n",
      "[{'name': 'variable', 'datatype': 'FP32', 'shape': [1, 1], 'data': [3.179999828338623]}]\n",
      "Actual (2.8) vs. Prediction (3.18)\n",
      "[{'name': 'variable', 'datatype': 'FP32', 'shape': [1, 1], 'data': [2.858333110809326]}]\n",
      "Actual (2.4) vs. Prediction (2.858)\n",
      "[{'name': 'variable', 'datatype': 'FP32', 'shape': [1, 1], 'data': [2.4166665077209473]}]\n",
      "Actual (2.4) vs. Prediction (2.417)\n",
      "[{'name': 'variable', 'datatype': 'FP32', 'shape': [1, 1], 'data': [2.4166665077209473]}]\n",
      "Actual (2.1) vs. Prediction (2.417)\n",
      "[{'name': 'variable', 'datatype': 'FP32', 'shape': [1, 1], 'data': [2.1666665077209473]}]\n",
      "Actual (2.4) vs. Prediction (2.167)\n",
      "[{'name': 'variable', 'datatype': 'FP32', 'shape': [1, 1], 'data': [2.4166665077209473]}]\n",
      "Actual (2.1) vs. Prediction (2.417)\n"
     ]
    }
   ],
   "source": [
    "PREDICT_ENDPOINT = MODEL_ENDPOINT + \"/infer\"\n",
    "\n",
    "for item in zip(x_i, y_i):\n",
    "    payload = {\n",
    "        \"inputs\": [\n",
    "            {\n",
    "                \"name\": response_svc[\"inputs\"][0][\"name\"],\n",
    "                \"shape\": [\n",
    "                    1,\n",
    "                    1,\n",
    "                ],  # has to match response_svc[\"inputs\"][0][\"shape\"] (except for 1. dimension)\n",
    "                \"datatype\": response_svc[\"inputs\"][0][\"datatype\"],\n",
    "                \"data\": item[0].tolist(),\n",
    "            }\n",
    "        ]\n",
    "    }\n",
    "    res = requests.post(PREDICT_ENDPOINT, headers=HEADERS, data=json.dumps(payload))\n",
    "    response = json.loads(res.text)\n",
    "    print(response[\"outputs\"])\n",
    "    pred = response[\"outputs\"][0][\"data\"][0]\n",
    "    print(f\"Actual ({item[1]}) vs. Prediction ({round(pred, 3)})\")"
   ]
  },
  {
   "cell_type": "code",
   "execution_count": null,
   "id": "eb2c1bb7-6a23-4bba-a0be-5177670e8107",
   "metadata": {},
   "outputs": [],
   "source": []
  }
 ],
 "metadata": {
  "kernelspec": {
   "display_name": "Python 3 (ipykernel)",
   "language": "python",
   "name": "python3"
  },
  "language_info": {
   "codemirror_mode": {
    "name": "ipython",
    "version": 3
   },
   "file_extension": ".py",
   "mimetype": "text/x-python",
   "name": "python",
   "nbconvert_exporter": "python",
   "pygments_lexer": "ipython3",
   "version": "3.9.16"
  }
 },
 "nbformat": 4,
 "nbformat_minor": 5
}
