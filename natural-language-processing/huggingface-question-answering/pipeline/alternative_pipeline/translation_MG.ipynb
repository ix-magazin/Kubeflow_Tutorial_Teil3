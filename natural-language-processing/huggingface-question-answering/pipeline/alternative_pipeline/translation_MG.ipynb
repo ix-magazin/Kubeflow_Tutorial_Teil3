{
 "cells": [
  {
   "cell_type": "markdown",
   "id": "50201f05-aee8-46c6-937b-3acb866a6e95",
   "metadata": {},
   "source": [
    "# NLP Demo"
   ]
  },
  {
   "cell_type": "code",
   "execution_count": 1,
   "id": "c4e4bc7f-74d0-4b44-b66d-8238f35644c1",
   "metadata": {},
   "outputs": [
    {
     "data": {
      "text/plain": [
       "'marving-de-ibm-com'"
      ]
     },
     "execution_count": 1,
     "metadata": {},
     "output_type": "execute_result"
    }
   ],
   "source": [
    "import kfp\n",
    "import kfp.components as comp\n",
    "import kfp.dsl as dsl\n",
    "\n",
    "MINIO_URL = \"minio-service.kubeflow:9000\"\n",
    "MINIO_USER = \"minio\"\n",
    "MINIO_PASS = \"minio123\"\n",
    "BUCKET_NAME = \"tensorboardlogs\"\n",
    "base_image=\"quay.io/jeremie_ch/transformers-component:gpu\"\n",
    "minio_image = \"quay.io/jeremie_ch/minio-component:1.0\"\n",
    "\n",
    "with open(\"/var/run/secrets/kubernetes.io/serviceaccount/namespace\") as f:\n",
    "    NAMESPACE = f.read()\n",
    "NAMESPACE"
   ]
  },
  {
   "cell_type": "code",
   "execution_count": 2,
   "id": "f7cd101f-5646-4cab-922b-9cbd2ed24915",
   "metadata": {},
   "outputs": [],
   "source": [
    "def load_dataset(dataset_dir: comp.OutputPath(str)):\n",
    "    from datasets import load_dataset\n",
    "    import os\n",
    "    squad = load_dataset(\"squad\")\n",
    "    if not os.path.exists(dataset_dir):\n",
    "        os.makedirs(dataset_dir)\n",
    "    squad.save_to_disk(dataset_dir)\n",
    "\n",
    "        \n",
    "load_dataset_comp = kfp.components.create_component_from_func(load_dataset, \"dataset.yaml\",\n",
    "                                                              base_image)"
   ]
  },
  {
   "cell_type": "code",
   "execution_count": 3,
   "id": "b1bf3bf7-0fd9-4a77-812b-f69cb7db3690",
   "metadata": {},
   "outputs": [],
   "source": [
    "def preprocess(dataset_dir: comp.InputPath(str),\n",
    "               preprocess_dir: comp.OutputPath(str)):\n",
    "\n",
    "    from transformers import AutoTokenizer\n",
    "    from datasets.load import load_from_disk\n",
    "    import os\n",
    "    \n",
    "    tokenizer = AutoTokenizer.from_pretrained(\"distilbert-base-uncased\")\n",
    "\n",
    "    squad = load_from_disk(dataset_dir)\n",
    "    \n",
    "    def preprocess_function(examples):\n",
    "        questions = [q.strip() for q in examples[\"question\"]]\n",
    "        inputs = tokenizer(\n",
    "            questions,\n",
    "            examples[\"context\"],\n",
    "            max_length=384,\n",
    "            truncation=\"only_second\",\n",
    "            return_offsets_mapping=True,\n",
    "            padding=\"max_length\",\n",
    "        )\n",
    "\n",
    "        offset_mapping = inputs.pop(\"offset_mapping\")\n",
    "        answers = examples[\"answers\"]\n",
    "        start_positions = []\n",
    "        end_positions = []\n",
    "\n",
    "        for i, offset in enumerate(offset_mapping):\n",
    "            answer = answers[i]\n",
    "            start_char = answer[\"answer_start\"][0]\n",
    "            end_char = answer[\"answer_start\"][0] + len(answer[\"text\"][0])\n",
    "            sequence_ids = inputs.sequence_ids(i)\n",
    "\n",
    "            # Find the start and end of the context\n",
    "            idx = 0\n",
    "            while sequence_ids[idx] != 1:\n",
    "                idx += 1\n",
    "            context_start = idx\n",
    "            while sequence_ids[idx] == 1:\n",
    "                idx += 1\n",
    "            context_end = idx - 1\n",
    "\n",
    "            # If the answer is not fully inside the context, label it (0, 0)\n",
    "            if offset[context_start][0] > end_char or offset[context_end][1] < start_char:\n",
    "                start_positions.append(0)\n",
    "                end_positions.append(0)\n",
    "            else:\n",
    "                # Otherwise it's the start and end token positions\n",
    "                idx = context_start\n",
    "                while idx <= context_end and offset[idx][0] <= start_char:\n",
    "                    idx += 1\n",
    "                start_positions.append(idx - 1)\n",
    "\n",
    "                idx = context_end\n",
    "                while idx >= context_start and offset[idx][1] >= end_char:\n",
    "                    idx -= 1\n",
    "                end_positions.append(idx + 1)\n",
    "\n",
    "        inputs[\"start_positions\"] = start_positions\n",
    "        inputs[\"end_positions\"] = end_positions\n",
    "        return inputs\n",
    "\n",
    "    tokenized_squad = squad.map(preprocess_function, batched=True, remove_columns=squad[\"train\"].column_names)\n",
    "    \n",
    "    if not os.path.exists(preprocess_dir):\n",
    "        os.makedirs(preprocess_dir)\n",
    "    \n",
    "    tokenized_squad.save_to_disk(preprocess_dir)\n",
    "\n",
    "\n",
    "preprocess_comp = kfp.components.create_component_from_func(preprocess, \"preprocess.yaml\",\n",
    "                                                            base_image)"
   ]
  },
  {
   "cell_type": "code",
   "execution_count": 4,
   "id": "853d90d5-fbdb-44e9-9c97-e0bc7c33ed88",
   "metadata": {},
   "outputs": [],
   "source": [
    "def train(preprocess_dir: comp.InputPath(str),\n",
    "          model_dir: comp.OutputPath(str),\n",
    "          logs_dir: comp.OutputPath(str),\n",
    "          checkpoint_dir: comp.OutputPath(str)):\n",
    "\n",
    "    import os\n",
    "    from datasets import load_from_disk\n",
    "    from transformers import AutoTokenizer, DefaultDataCollator, \\\n",
    "        AutoModelForQuestionAnswering, TrainingArguments, Trainer\n",
    "    import datetime\n",
    "    \n",
    "    tokenized_squad = load_from_disk(preprocess_dir)\n",
    "    \n",
    "    data_collator = DefaultDataCollator()\n",
    "    \n",
    "    tokenizer = AutoTokenizer.from_pretrained(\"distilbert-base-uncased\", torchscript=True)\n",
    "\n",
    "    model = AutoModelForQuestionAnswering.from_pretrained(\"distilbert-base-uncased\")\n",
    "    \n",
    "    if not os.path.exists(checkpoint_dir):\n",
    "        os.makedirs(checkpoint_dir)\n",
    "\n",
    "    logging_dir = logs_dir + \"/\" + datetime.datetime.now().strftime(\"%Y%m%d-%H%M%S\")\n",
    "    \n",
    "    training_args = TrainingArguments(\n",
    "        output_dir=checkpoint_dir,\n",
    "        evaluation_strategy=\"epoch\",\n",
    "        learning_rate=2e-5,\n",
    "        per_device_train_batch_size=16,\n",
    "        per_device_eval_batch_size=16,\n",
    "        num_train_epochs=3,\n",
    "        weight_decay=0.01,\n",
    "        logging_dir=logging_dir\n",
    "    )\n",
    "\n",
    "    trainer = Trainer(\n",
    "        model=model,\n",
    "        args=training_args,\n",
    "        # train_dataset=tokenized_squad[\"train\"],\n",
    "        train_dataset=tokenized_squad[\"train\"].select(range(50)),\n",
    "        eval_dataset=tokenized_squad[\"validation\"].select(range(50)),\n",
    "        tokenizer=tokenizer,\n",
    "        data_collator=data_collator,\n",
    "    )\n",
    "\n",
    "    trainer.train()\n",
    "\n",
    "    if not os.path.exists(model_dir):\n",
    "        os.makedirs(model_dir)\n",
    "\n",
    "    trainer.save_model(model_dir)\n",
    "    print(model_dir)\n",
    "    \n",
    "    import sys\n",
    "    import runpy\n",
    "    # Convert saved model to ONNX\n",
    "    os.makedirs(f\"/mnt/models/question-answering/1/\", exist_ok=True)\n",
    "    sys.argv = [\"dummy_sysargs.py\", f\"--model={model_dir}\", \"--feature=question-answering\", f\"/mnt/models/question-answering/1/\"]\n",
    "    runpy.run_module(\"transformers.onnx\", run_name=\"__main__\")\n",
    "    os.listdir(f\"/mnt/models/question-answering/1/\")\n",
    "\n",
    "    \n",
    "train_comp = kfp.components.create_component_from_func(train, \"train.yaml\",\n",
    "                                                       base_image)"
   ]
  },
  {
   "cell_type": "code",
   "execution_count": 5,
   "id": "1fb7690d-5674-484a-9be3-a989db34df97",
   "metadata": {},
   "outputs": [],
   "source": [
    "def upload_torchserve_model(model_dir: comp.InputPath(str),\n",
    "                            pt_path: comp.OutputPath(str)):\n",
    "    from transformers import AutoModelForQuestionAnswering, AutoTokenizer\n",
    "    import torch\n",
    "    print(model_dir)\n",
    "    model = AutoModelForQuestionAnswering.from_pretrained(model_dir)\n",
    "\n",
    "    tokenizer = AutoTokenizer.from_pretrained(\"distilbert-base-uncased\", torchscript=True)\n",
    "    context = \"Architecturally, the school has a Catholic character. Atop the Main Building\\\"s gold dome is a golden statue of the Virgin Mary. Immediately in front of the Main Building and facing it, is a copper statue of Christ with arms upraised with the legend \\\"Venite Ad Me Omnes\\\". Next to the Main Building is the Basilica of the Sacred Heart. Immediately behind the basilica is the Grotto, a Marian place of prayer and reflection. It is a replica of the grotto at Lourdes, France where the Virgin Mary reputedly appeared to Saint Bernadette Soubirous in 1858. At the end of the main drive (and in a direct line that connects through 3 statues and the Gold Dome), is a simple, modern stone statue of Mary.\"\n",
    "    question = \"To whom did the Virgin Mary allegedly appear in 1858 in Lourdes France?\"\n",
    "    model.eval()\n",
    "    model.to(\"cpu\")\n",
    "    inputs = tuple(dict(tokenizer(question, context, return_tensors=\"pt\")).values())\n",
    "    traced_model = torch.jit.trace(model, inputs, strict=False)\n",
    "    torch.jit.save(traced_model, pt_path)\n",
    "    \n",
    "\n",
    "upload_model_comp = comp.create_component_from_func(upload_torchserve_model, \n",
    "                                                        \"upload_torchserve_model.yaml\", \n",
    "                                                        base_image)"
   ]
  },
  {
   "cell_type": "code",
   "execution_count": 6,
   "id": "e22b5f3f-adaa-4630-a949-abc9b4cdd0d7",
   "metadata": {},
   "outputs": [],
   "source": [
    "def upload_to_minio(local_dir: comp.InputPath(str),\n",
    "                    bucket_name=\"nlp\",\n",
    "                    minio_url=\"minio-service.kubeflow:9000\"):\n",
    "    import glob\n",
    "    import os\n",
    "    from minio import Minio\n",
    "    \n",
    "    client = Minio(\"minio-service.kubeflow:9000\", \"minio\", \"minio123\", secure=False)\n",
    "    \n",
    "    if client.bucket_exists(bucket_name):\n",
    "        client.remove_bucket(bucket_name)\n",
    "    client.make_bucket(bucket_name)\n",
    "    # if not client.bucket_exists(bucket_name):\n",
    "    #     client.make_bucket(bucket_name)\n",
    "    \n",
    "    assert os.path.isdir(local_dir)\n",
    "\n",
    "    for local_file in glob.glob(local_dir + '/**'):\n",
    "        local_file = local_file.replace(os.sep, \"/\") # Replace \\ with / on Windows\n",
    "        if not os.path.isfile(local_file):\n",
    "            upload_to_minio(\n",
    "                local_file, bucket_name, minio_url + \"/\" + os.path.basename(local_file))\n",
    "        else:\n",
    "            remote_path = os.path.join(\n",
    "                minio_url, local_file[1 + len(local_dir):])\n",
    "            remote_path = remote_path.replace(\n",
    "                os.sep, \"/\")  # Replace \\ with / on Windows\n",
    "            client.fput_object(bucket_name, remote_path, local_file)\n",
    "        \n",
    "\n",
    "upload_to_minio_comp = comp.create_component_from_func(upload_to_minio, \n",
    "                                                       base_image=minio_image)"
   ]
  },
  {
   "cell_type": "code",
   "execution_count": 7,
   "id": "8fca3819-d701-47fc-b723-ceb939db856b",
   "metadata": {},
   "outputs": [],
   "source": [
    "#Inference\n",
    "deploy_model_mma_comp = kfp.components.load_component_from_file(\"deploy-mma.yaml\")\n",
    "deploy_model_no_mma_comp = kfp.components.load_component_from_file(\"deploy-no-mma.yaml\")"
   ]
  },
  {
   "cell_type": "code",
   "execution_count": 8,
   "id": "c95ab00c-fac1-403b-bb7a-f730e400b8b6",
   "metadata": {},
   "outputs": [],
   "source": [
    "def pipeline(dataset_dir: str,\n",
    "             preprocess_dir: str,\n",
    "             model_dir: str,\n",
    "             checkpoint_dir: str,\n",
    "             logs_dir: str,\n",
    "             pt_path: str,\n",
    "             model_name: str,\n",
    "             size: str=\"1Gi\"):\n",
    "    vop = dsl.VolumeOp(\n",
    "        name=\"create-pvc\",\n",
    "        resource_name=\"models-volume\",\n",
    "        modes=dsl.VOLUME_MODE_RWO,\n",
    "        size=size,\n",
    "        generate_unique_name=False,\n",
    "        action='apply'\n",
    "    )\n",
    "    load_dataset_task = load_dataset_comp()\n",
    "    preproccess_task = preprocess_comp(dataset_dir=load_dataset_task.output)\n",
    "    train_task = train_comp(preprocess_dir=preproccess_task.output).set_gpu_limit(1).add_pvolumes({\"/mnt\": vop.volume})\n",
    "    upload_model_task = upload_model_comp(train_task.outputs[\"model_dir\"])\n",
    "    upload_to_minio_task = upload_to_minio_comp(local_dir=train_task.outputs[\"logs_dir\"])\n",
    "    deploy_model_mma_task = deploy_model_mma_comp(model_name=model_name)\n",
    "    deploy_model_mma_task.after(train_task)\n",
    "    deploy_model_no_mma_task = deploy_model_no_mma_comp(model_name=model_name)\n",
    "    deploy_model_no_mma_task.after(train_task)"
   ]
  },
  {
   "cell_type": "code",
   "execution_count": 9,
   "id": "a28597d6-f91b-4272-986c-77faa1158ef3",
   "metadata": {},
   "outputs": [
    {
     "data": {
      "text/html": [
       "<a href=\"/pipeline/#/experiments/details/ccfb5bff-6516-4493-9fb1-72862bf81181\" target=\"_blank\" >Experiment details</a>."
      ],
      "text/plain": [
       "<IPython.core.display.HTML object>"
      ]
     },
     "metadata": {},
     "output_type": "display_data"
    },
    {
     "data": {
      "text/html": [
       "<a href=\"/pipeline/#/runs/details/a6521bd1-6ee6-46a2-a2ba-b0b37cc4e9b1\" target=\"_blank\" >Run details</a>."
      ],
      "text/plain": [
       "<IPython.core.display.HTML object>"
      ]
     },
     "metadata": {},
     "output_type": "display_data"
    },
    {
     "data": {
      "text/plain": [
       "RunPipelineResult(run_id=a6521bd1-6ee6-46a2-a2ba-b0b37cc4e9b1)"
      ]
     },
     "execution_count": 9,
     "metadata": {},
     "output_type": "execute_result"
    }
   ],
   "source": [
    "arguments = {\"dataset_dir\": \"/dataset_dir\", \n",
    "             \"preprocess_dir\": \"/preprocess_dir\",\n",
    "             \"model_dir\": \"/model_dir\",\n",
    "             \"checkpoint_dir\": \"/checkpoint_dir\",\n",
    "             \"logs_dir\": \"/logs/tb\",\n",
    "             \"pt_path\": \"/pt_path/traced_distilbert.pth\",\n",
    "             \"model_name\": \"question-answering\"}\n",
    "\n",
    "client = kfp.Client()\n",
    "client.create_run_from_pipeline_func(\n",
    "    pipeline,\n",
    "    arguments=arguments,\n",
    "    namespace=NAMESPACE\n",
    ")"
   ]
  },
  {
   "cell_type": "code",
   "execution_count": 10,
   "id": "214ba3c3-ccd4-49b2-bbb0-f7ca3eb99d74",
   "metadata": {},
   "outputs": [
    {
     "name": "stdout",
     "output_type": "stream",
     "text": [
      "{\"name\":\"question-answering\",\"versions\":[\"1\"],\"platform\":\"onnxruntime_onnx\",\"inputs\":[{\"name\":\"attention_mask\",\"datatype\":\"INT64\",\"shape\":[-1,-1]},{\"name\":\"input_ids\",\"datatype\":\"INT64\",\"shape\":[-1,-1]}],\"outputs\":[{\"name\":\"end_logits\",\"datatype\":\"FP32\",\"shape\":[-1,-1]},{\"name\":\"start_logits\",\"datatype\":\"FP32\",\"shape\":[-1,-1]}]}"
     ]
    }
   ],
   "source": [
    "!curl http://question-answering-mma-predictor-default-marving-de-ibm-com.apps.ruby.edu.ihost.com/v2/models/question-answering"
   ]
  },
  {
   "cell_type": "code",
   "execution_count": 11,
   "id": "8a839f33-8b50-4cb1-b897-2bdb7c7025f3",
   "metadata": {},
   "outputs": [
    {
     "name": "stdout",
     "output_type": "stream",
     "text": [
      "{\"name\":\"question-answering\",\"versions\":[\"1\"],\"platform\":\"onnxruntime_onnx\",\"inputs\":[{\"name\":\"attention_mask\",\"datatype\":\"INT64\",\"shape\":[-1,-1]},{\"name\":\"input_ids\",\"datatype\":\"INT64\",\"shape\":[-1,-1]}],\"outputs\":[{\"name\":\"end_logits\",\"datatype\":\"FP32\",\"shape\":[-1,-1]},{\"name\":\"start_logits\",\"datatype\":\"FP32\",\"shape\":[-1,-1]}]}"
     ]
    }
   ],
   "source": [
    "!curl http://question-answering-no-mma-predictor-default-marving-de-ibm-com.apps.ruby.edu.ihost.com/v2/models/question-answering"
   ]
  },
  {
   "cell_type": "code",
   "execution_count": null,
   "id": "f4739ca5-f56e-473a-bf00-f9b07629f89d",
   "metadata": {},
   "outputs": [],
   "source": []
  },
  {
   "cell_type": "code",
   "execution_count": null,
   "id": "ce53b8c2-a224-4cf7-a800-8c0e82492998",
   "metadata": {},
   "outputs": [],
   "source": []
  },
  {
   "cell_type": "code",
   "execution_count": null,
   "id": "c7174985-ecdc-4049-a304-5b51e9b026ba",
   "metadata": {},
   "outputs": [],
   "source": []
  }
 ],
 "metadata": {
  "kernelspec": {
   "display_name": "Python 3 (ipykernel)",
   "language": "python",
   "name": "python3"
  },
  "language_info": {
   "codemirror_mode": {
    "name": "ipython",
    "version": 3
   },
   "file_extension": ".py",
   "mimetype": "text/x-python",
   "name": "python",
   "nbconvert_exporter": "python",
   "pygments_lexer": "ipython3",
   "version": "3.8.13"
  }
 },
 "nbformat": 4,
 "nbformat_minor": 5
}
