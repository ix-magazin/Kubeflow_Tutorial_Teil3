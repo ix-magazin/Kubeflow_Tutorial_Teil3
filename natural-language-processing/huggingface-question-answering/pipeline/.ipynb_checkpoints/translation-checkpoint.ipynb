{
 "cells": [
  {
   "cell_type": "markdown",
   "id": "50201f05-aee8-46c6-937b-3acb866a6e95",
   "metadata": {},
   "source": [
    "# NLP Demo"
   ]
  },
  {
   "cell_type": "code",
   "execution_count": 22,
   "id": "c4e4bc7f-74d0-4b44-b66d-8238f35644c1",
   "metadata": {},
   "outputs": [],
   "source": [
    "import kfp\n",
    "import kfp.components as comp"
   ]
  },
  {
   "cell_type": "code",
   "execution_count": 23,
   "id": "f7cd101f-5646-4cab-922b-9cbd2ed24915",
   "metadata": {},
   "outputs": [],
   "source": [
    "def load_dataset(dataset_dir: comp.OutputPath(str)):\n",
    "    from datasets import load_dataset\n",
    "    import os\n",
    "    squad = load_dataset(\"squad\")\n",
    "    if not os.path.exists(dataset_dir):\n",
    "        os.makedirs(dataset_dir)\n",
    "    squad.save_to_disk(dataset_dir)\n",
    "\n",
    "        \n",
    "load_dataset_comp = kfp.components.create_component_from_func(load_dataset, \"dataset.yaml\",\n",
    "                                                              \"quay.io/jeremie_ch/transformers-component:gpu\")"
   ]
  },
  {
   "cell_type": "code",
   "execution_count": 24,
   "id": "5bf7d3ea-1aa6-4711-8c22-25f2a4d787f8",
   "metadata": {},
   "outputs": [],
   "source": [
    "def description(dataset_dir: comp.InputPath(str)):\n",
    "    from datasets.load import load_from_disk\n",
    "    \n",
    "    dataset = load_from_disk(dataset_dir)\n",
    "    # dataset.describe()\n",
    "\n",
    "\n",
    "description_comp = kfp.components.create_component_from_func(description, \"description.yaml\",\n",
    "                                                             \"quay.io/jeremie_ch/transformers-component:gpu\")"
   ]
  },
  {
   "cell_type": "code",
   "execution_count": 25,
   "id": "b1bf3bf7-0fd9-4a77-812b-f69cb7db3690",
   "metadata": {},
   "outputs": [],
   "source": [
    "def preprocess(dataset_dir: comp.InputPath(str),\n",
    "               preprocess_dir: comp.OutputPath(str)):\n",
    "\n",
    "    from transformers import AutoTokenizer\n",
    "    from datasets.load import load_from_disk\n",
    "    import os\n",
    "    \n",
    "    tokenizer = AutoTokenizer.from_pretrained(\"distilbert-base-uncased\")\n",
    "\n",
    "    squad = load_from_disk(dataset_dir)\n",
    "    \n",
    "    def preprocess_function(examples):\n",
    "        questions = [q.strip() for q in examples[\"question\"]]\n",
    "        inputs = tokenizer(\n",
    "            questions,\n",
    "            examples[\"context\"],\n",
    "            max_length=384,\n",
    "            truncation=\"only_second\",\n",
    "            return_offsets_mapping=True,\n",
    "            padding=\"max_length\",\n",
    "        )\n",
    "\n",
    "        offset_mapping = inputs.pop(\"offset_mapping\")\n",
    "        answers = examples[\"answers\"]\n",
    "        start_positions = []\n",
    "        end_positions = []\n",
    "\n",
    "        for i, offset in enumerate(offset_mapping):\n",
    "            answer = answers[i]\n",
    "            start_char = answer[\"answer_start\"][0]\n",
    "            end_char = answer[\"answer_start\"][0] + len(answer[\"text\"][0])\n",
    "            sequence_ids = inputs.sequence_ids(i)\n",
    "\n",
    "            # Find the start and end of the context\n",
    "            idx = 0\n",
    "            while sequence_ids[idx] != 1:\n",
    "                idx += 1\n",
    "            context_start = idx\n",
    "            while sequence_ids[idx] == 1:\n",
    "                idx += 1\n",
    "            context_end = idx - 1\n",
    "\n",
    "            # If the answer is not fully inside the context, label it (0, 0)\n",
    "            if offset[context_start][0] > end_char or offset[context_end][1] < start_char:\n",
    "                start_positions.append(0)\n",
    "                end_positions.append(0)\n",
    "            else:\n",
    "                # Otherwise it's the start and end token positions\n",
    "                idx = context_start\n",
    "                while idx <= context_end and offset[idx][0] <= start_char:\n",
    "                    idx += 1\n",
    "                start_positions.append(idx - 1)\n",
    "\n",
    "                idx = context_end\n",
    "                while idx >= context_start and offset[idx][1] >= end_char:\n",
    "                    idx -= 1\n",
    "                end_positions.append(idx + 1)\n",
    "\n",
    "        inputs[\"start_positions\"] = start_positions\n",
    "        inputs[\"end_positions\"] = end_positions\n",
    "        return inputs\n",
    "\n",
    "    tokenized_squad = squad.map(preprocess_function, batched=True, remove_columns=squad[\"train\"].column_names)\n",
    "    \n",
    "    if not os.path.exists(preprocess_dir):\n",
    "        os.makedirs(preprocess_dir)\n",
    "    \n",
    "    tokenized_squad.save_to_disk(preprocess_dir)\n",
    "\n",
    "\n",
    "preprocess_comp = kfp.components.create_component_from_func(preprocess, \"preprocess.yaml\",\n",
    "                                                            \"quay.io/jeremie_ch/transformers-component:gpu\")"
   ]
  },
  {
   "cell_type": "code",
   "execution_count": 48,
   "id": "853d90d5-fbdb-44e9-9c97-e0bc7c33ed88",
   "metadata": {},
   "outputs": [],
   "source": [
    "def train(preprocess_dir: comp.InputPath(str),\n",
    "          model_dir: comp.OutputPath(str),\n",
    "          checkpoint_dir: comp.OutputPath(str)):\n",
    "\n",
    "    import os\n",
    "    from datasets import load_from_disk\n",
    "    from transformers import AutoTokenizer, DefaultDataCollator, \\\n",
    "        AutoModelForQuestionAnswering, TrainingArguments, Trainer\n",
    "    # from transformers.integrations import TensorBoardCallback\n",
    "    \n",
    "    tokenized_squad = load_from_disk(preprocess_dir)\n",
    "    \n",
    "    data_collator = DefaultDataCollator()\n",
    "    \n",
    "    tokenizer = AutoTokenizer.from_pretrained(\"distilbert-base-uncased\", torchscript=True)\n",
    "\n",
    "    model = AutoModelForQuestionAnswering.from_pretrained(\"distilbert-base-uncased\")\n",
    "    \n",
    "    if not os.path.exists(checkpoint_dir):\n",
    "        os.makedirs(checkpoint_dir)\n",
    "\n",
    "    training_args = TrainingArguments(\n",
    "        output_dir=checkpoint_dir,\n",
    "        evaluation_strategy=\"epoch\",\n",
    "        learning_rate=2e-5,\n",
    "        per_device_train_batch_size=16,\n",
    "        per_device_eval_batch_size=16,\n",
    "        num_train_epochs=1, #3,\n",
    "        weight_decay=0.01,\n",
    "    )\n",
    "\n",
    "    trainer = Trainer(\n",
    "        model=model,\n",
    "        args=training_args,\n",
    "        # train_dataset=tokenized_squad[\"train\"],\n",
    "        train_dataset=tokenized_squad[\"train\"].select(range(1000)),\n",
    "        eval_dataset=tokenized_squad[\"validation\"],\n",
    "        tokenizer=tokenizer,\n",
    "        data_collator=data_collator,\n",
    "    )\n",
    "\n",
    "    # trainer.add_callback(TensorBoardCallback())\n",
    "    trainer.train()\n",
    "    \n",
    "    if not os.path.exists(model_dir):\n",
    "        os.makedirs(model_dir)\n",
    "    \n",
    "    trainer.save_model(model_dir)\n",
    "\n",
    "    \n",
    "train_comp = kfp.components.create_component_from_func(train, \"train.yaml\",\n",
    "                                                       \"quay.io/jeremie_ch/transformers-component:gpu\")"
   ]
  },
  {
   "cell_type": "code",
   "execution_count": 49,
   "id": "1fb7690d-5674-484a-9be3-a989db34df97",
   "metadata": {},
   "outputs": [],
   "source": [
    "def upload_torchserve_model(model_dir: comp.InputPath(str),\n",
    "                            pt_path: comp.OutputPath(str)):\n",
    "    from transformers import AutoModelForQuestionAnswering, AutoTokenizer\n",
    "    import torch\n",
    "    \n",
    "    model = AutoModelForQuestionAnswering.from_pretrained(model_dir)\n",
    "\n",
    "    tokenizer = AutoTokenizer.from_pretrained(\"distilbert-base-uncased\", torchscript=True)\n",
    "    context = \"Architecturally, the school has a Catholic character. Atop the Main Building\\\"s gold dome is a golden statue of the Virgin Mary. Immediately in front of the Main Building and facing it, is a copper statue of Christ with arms upraised with the legend \\\"Venite Ad Me Omnes\\\". Next to the Main Building is the Basilica of the Sacred Heart. Immediately behind the basilica is the Grotto, a Marian place of prayer and reflection. It is a replica of the grotto at Lourdes, France where the Virgin Mary reputedly appeared to Saint Bernadette Soubirous in 1858. At the end of the main drive (and in a direct line that connects through 3 statues and the Gold Dome), is a simple, modern stone statue of Mary.\"\n",
    "    question = \"To whom did the Virgin Mary allegedly appear in 1858 in Lourdes France?\"\n",
    "    model.eval()\n",
    "    model.to(\"cpu\")\n",
    "    inputs = tuple(dict(tokenizer(question, context, return_tensors=\"pt\")).values())\n",
    "    traced_model = torch.jit.trace(model, inputs, strict=False)\n",
    "    torch.jit.save(traced_model, pt_path)\n",
    "    \n",
    "\n",
    "upload_model_comp = comp.create_component_from_func(upload_torchserve_model, \n",
    "                                                        \"upload_torchserve_model.yaml\", \n",
    "                                                        \"quay.io/jeremie_ch/transformers-component:gpu\")"
   ]
  },
  {
   "cell_type": "code",
   "execution_count": 50,
   "id": "c95ab00c-fac1-403b-bb7a-f730e400b8b6",
   "metadata": {},
   "outputs": [],
   "source": [
    "def pipeline(dataset_dir: str,\n",
    "             preprocess_dir: str,\n",
    "             model_dir: str,\n",
    "             checkpoint_dir: str,\n",
    "             pt_path: str):\n",
    "    load_dataset_task = load_dataset_comp()\n",
    "    description_task = description_comp(dataset_dir=load_dataset_task.output)\n",
    "    preproccess_task = preprocess_comp(dataset_dir=load_dataset_task.output)\n",
    "    train_task = train_comp(preprocess_dir=preproccess_task.output).set_gpu_limit(1)\n",
    "    upload_model_task = upload_model_comp(train_task.outputs[\"model_dir\"])"
   ]
  },
  {
   "cell_type": "code",
   "execution_count": 51,
   "id": "a28597d6-f91b-4272-986c-77faa1158ef3",
   "metadata": {},
   "outputs": [
    {
     "data": {
      "text/html": [
       "<a href=\"/pipeline/#/experiments/details/a71794dc-9ce4-4fd8-99c1-88db7720fdf6\" target=\"_blank\" >Experiment details</a>."
      ],
      "text/plain": [
       "<IPython.core.display.HTML object>"
      ]
     },
     "metadata": {},
     "output_type": "display_data"
    },
    {
     "data": {
      "text/html": [
       "<a href=\"/pipeline/#/runs/details/74a80eeb-74e1-4a17-9077-b76a5ec7b63b\" target=\"_blank\" >Run details</a>."
      ],
      "text/plain": [
       "<IPython.core.display.HTML object>"
      ]
     },
     "metadata": {},
     "output_type": "display_data"
    },
    {
     "data": {
      "text/plain": [
       "RunPipelineResult(run_id=74a80eeb-74e1-4a17-9077-b76a5ec7b63b)"
      ]
     },
     "execution_count": 51,
     "metadata": {},
     "output_type": "execute_result"
    }
   ],
   "source": [
    "arguments = {\"dataset_dir\": \"/dataset_dir\", \n",
    "             \"preprocess_dir\": \"/preprocess_dir\",\n",
    "             \"model_dir\": \"/model_dir\",\n",
    "             \"checkpoint_dir\": \"/checkpoint_dir\",\n",
    "             \"pt_path\": \"/pt_path/traced_distilbert.pth\"}\n",
    "\n",
    "NAMESPACE = \"jeremie-chheang-ibm-com\"\n",
    "client = kfp.Client()\n",
    "client.create_run_from_pipeline_func(\n",
    "    pipeline,\n",
    "    arguments=arguments,\n",
    "    namespace=NAMESPACE\n",
    ")"
   ]
  },
  {
   "cell_type": "code",
   "execution_count": null,
   "id": "214ba3c3-ccd4-49b2-bbb0-f7ca3eb99d74",
   "metadata": {},
   "outputs": [],
   "source": []
  }
 ],
 "metadata": {
  "kernelspec": {
   "display_name": "Python 3 (ipykernel)",
   "language": "python",
   "name": "python3"
  },
  "language_info": {
   "codemirror_mode": {
    "name": "ipython",
    "version": 3
   },
   "file_extension": ".py",
   "mimetype": "text/x-python",
   "name": "python",
   "nbconvert_exporter": "python",
   "pygments_lexer": "ipython3",
   "version": "3.8.13"
  }
 },
 "nbformat": 4,
 "nbformat_minor": 5
}
