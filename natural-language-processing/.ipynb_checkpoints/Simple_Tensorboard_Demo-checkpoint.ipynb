{
 "cells": [
  {
   "cell_type": "markdown",
   "id": "7bc1eb70-c7a6-4a70-8f1b-03bcdf2d5c1b",
   "metadata": {},
   "source": [
    "# Simple Tensorboard MNIST Example\n",
    "\n",
    "This notebook will show how a Tensorboard instance can be used from within the Kubeflow while the model is still training\n",
    "## 1.) Import libraries"
   ]
  },
  {
   "cell_type": "code",
   "execution_count": null,
   "id": "b4b32728-0cc1-4ac4-884b-1da893dc1e03",
   "metadata": {},
   "outputs": [],
   "source": [
    "import os\n",
    "import tensorflow as tf\n",
    "import datetime\n",
    "\n",
    "tf.get_logger().setLevel('INFO')"
   ]
  },
  {
   "cell_type": "markdown",
   "id": "966df3df-eaba-4764-9ba5-335766f92cb2",
   "metadata": {},
   "source": [
    "## 2.) Get sample dataset, split into traing/test and create model definition"
   ]
  },
  {
   "cell_type": "code",
   "execution_count": null,
   "id": "73c16a58-829f-44ef-add4-7ccc84f7264f",
   "metadata": {},
   "outputs": [],
   "source": [
    "mnist = tf.keras.datasets.mnist\n",
    "\n",
    "(x_train, y_train),(x_test, y_test) = mnist.load_data()\n",
    "x_train, x_test = x_train / 255.0, x_test / 255.0\n",
    "\n",
    "def create_model():\n",
    "    return tf.keras.models.Sequential([\n",
    "        tf.keras.layers.Flatten(input_shape=(28, 28)),\n",
    "        tf.keras.layers.Dense(512, activation='relu'),\n",
    "        tf.keras.layers.Dropout(0.2),\n",
    "        tf.keras.layers.Dense(10, activation='softmax')\n",
    "    ])"
   ]
  },
  {
   "cell_type": "markdown",
   "id": "7c374b6b-0413-4665-8024-fa8a9b3317f7",
   "metadata": {},
   "source": [
    "## 3.) Start training & get tensorboard instance\n",
    "The next cell will run the actual model training. Once you started it, go back to your Kubeflow dashboard, select \"Tensorboad\" and then:\n",
    "\n",
    "-> New Tensorboard <br>\n",
    "-> Choose a name <br>\n",
    "-> Namespace should be filled (otherwise choose the current one) <br>\n",
    "-> Choose PVC & PVC name <br> \n",
    "-> MountPath depends on what you set the log_dir in the next cell (for default set MountPath to `logs/tb`) <br>\n",
    "-> Once the instance is up & running connect to it!"
   ]
  },
  {
   "cell_type": "code",
   "execution_count": null,
   "id": "c0f76080-9087-469f-90db-b90e3a593cfc",
   "metadata": {},
   "outputs": [],
   "source": [
    "model = create_model()\n",
    "model.compile(optimizer='adam',\n",
    "              loss='sparse_categorical_crossentropy',\n",
    "              metrics=['accuracy'])\n",
    "\n",
    "log_dir = \"logs/tb/fit/\" + datetime.datetime.now().strftime(\"%Y%m%d-%H%M%S\")\n",
    "tensorboard_callback = tf.keras.callbacks.TensorBoard(log_dir=log_dir, histogram_freq=1)\n",
    "\n",
    "model.fit(x=x_train,\n",
    "          y=y_train,\n",
    "          epochs=50,\n",
    "          validation_data=(x_test, y_test),\n",
    "          callbacks=[tensorboard_callback])"
   ]
  },
  {
   "cell_type": "code",
   "execution_count": null,
   "id": "bc309bd5-2f24-4b96-99b5-68bdebfc07dd",
   "metadata": {},
   "outputs": [],
   "source": []
  }
 ],
 "metadata": {
  "kernelspec": {
   "display_name": "Python 3 (ipykernel)",
   "language": "python",
   "name": "python3"
  },
  "language_info": {
   "codemirror_mode": {
    "name": "ipython",
    "version": 3
   },
   "file_extension": ".py",
   "mimetype": "text/x-python",
   "name": "python",
   "nbconvert_exporter": "python",
   "pygments_lexer": "ipython3",
   "version": "3.8.10"
  }
 },
 "nbformat": 4,
 "nbformat_minor": 5
}
