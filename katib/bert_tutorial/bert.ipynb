{
 "cells": [
  {
   "cell_type": "markdown",
   "id": "0ca23ab5-1c48-427c-b51f-72fc02c5ed54",
   "metadata": {},
   "source": [
    "# How to run a katib experiment in a pipeline"
   ]
  },
  {
   "cell_type": "markdown",
   "id": "0be5f4fb-d6cc-430e-84c7-705b69aacafb",
   "metadata": {},
   "source": [
    "Katib is a framework native to Kubernetes that also works with RedHat Openshift. Its purpose is to tune hyperparameters. \\\n",
    "In this example, we train a NLP model that uses BERT and performs sentiment analysis on a dataset of plain-text IMDB movie reviews."
   ]
  },
  {
   "cell_type": "markdown",
   "id": "2782bc09-ebb1-4c08-86cf-070ffccf75e7",
   "metadata": {},
   "source": [
    "Katib runs from a YAML file that contains:\n",
    "- The parameters of the model\n",
    "- The number of trials in total\n",
    "- The number of parallel trials\n",
    "- The number of failed trials allowed\n",
    "- An objective function\n",
    "- A search algorithm\n",
    "- A metric collector specs that indicates how metrics are collected. The default option is StdOut but in this example, we collect metrics in a file. The default format is \"metric_name=value\". \n",
    "- A trial template that contains necessary information for running the experiment, including the container specs and the image that contains the model to tune, a command to launch and a set of parameters to tune. In this example, GPU usage has also been set in the \"resources\" section of the trial spec JSON. "
   ]
  },
  {
   "cell_type": "markdown",
   "id": "3956a946-fa94-48b8-8650-fe823de8ad7a",
   "metadata": {},
   "source": [
    "The final yaml looks like the **example.yaml** file. However, if you want to run Katib using Kubeflow Pipelines from a Jupyter notebook, you must create the previous yaml file using Python and the Kubeflow-Katib SDK. The SDK is compatible with Kubeflow v1beta1 and can be installed using <code>pip install kubeflow-katib</code>. \\\n",
    "The SDK contains all the classes for creating the YAML file requirements listed above. The documentation can be found in the following Github repo: https://github.com/kubeflow/katib/tree/master/sdk/python/v1beta1/docs"
   ]
  },
  {
   "cell_type": "markdown",
   "id": "550d4829-8d46-4e65-b63b-758626e41cc4",
   "metadata": {},
   "source": [
    "Finally, the experiment component is created from Kubeflow launcher component. This one has been rebuilt for IBM Power Systems and has to be loaded from the file **katib-pipelines-launcher.yaml** in this folder."
   ]
  },
  {
   "cell_type": "markdown",
   "id": "bea94c9c-1a51-4ead-8418-5bd50e2fd2dd",
   "metadata": {},
   "source": [
    "More information in the official documentation: https://www.kubeflow.org/docs/components/katib/experiment/"
   ]
  },
  {
   "cell_type": "markdown",
   "id": "0720cc22-023e-4da5-a810-96ec061e9813",
   "metadata": {},
   "source": [
    "## Running the experiment"
   ]
  },
  {
   "cell_type": "code",
   "execution_count": 1,
   "id": "76721126-acaa-4ac0-bca5-08e82c2b8894",
   "metadata": {},
   "outputs": [],
   "source": [
    "import kfp\n",
    "import kfp.dsl as dsl\n",
    "from kfp import components\n",
    "\n",
    "from kubeflow.katib import ApiClient\n",
    "from kubeflow.katib import V1beta1ExperimentSpec\n",
    "from kubeflow.katib import V1beta1AlgorithmSpec\n",
    "from kubeflow.katib import V1beta1ObjectiveSpec\n",
    "from kubeflow.katib import V1beta1ParameterSpec\n",
    "from kubeflow.katib import V1beta1FeasibleSpace\n",
    "from kubeflow.katib import V1beta1TrialTemplate\n",
    "from kubeflow.katib import V1beta1TrialParameterSpec\n",
    "from kubeflow.katib import V1beta1MetricsCollectorSpec\n",
    "from kubeflow.katib import V1beta1CollectorSpec\n",
    "from kubeflow.katib import V1beta1SourceSpec\n",
    "from kubeflow.katib import V1beta1FileSystemPath\n",
    "\n",
    "experiment_name = \"katib-e2e\""
   ]
  },
  {
   "cell_type": "code",
   "execution_count": 217,
   "id": "44976725-b486-4c73-9894-b28771cd7ad3",
   "metadata": {},
   "outputs": [],
   "source": [
    "def launch_katib_experiment(experiment_name, experiment_namespace):\n",
    "    # Trial count specification.\n",
    "    max_trial_count = 12\n",
    "    max_failed_trial_count = 3\n",
    "    parallel_trial_count = 3\n",
    "\n",
    "    objective = V1beta1ObjectiveSpec(\n",
    "        type=\"minimize\",\n",
    "        goal=2,\n",
    "        objective_metric_name=\"loss\"\n",
    "    )\n",
    "\n",
    "    # Algorithm specification.\n",
    "    algorithm = V1beta1AlgorithmSpec(\n",
    "        algorithm_name=\"random\",\n",
    "    )\n",
    "\n",
    "    parameters = [\n",
    "        V1beta1ParameterSpec(\n",
    "            name=\"epochs\",\n",
    "            parameter_type=\"int\",\n",
    "            feasible_space=V1beta1FeasibleSpace(\n",
    "                min=\"1\",\n",
    "                max=\"2\"\n",
    "            ),\n",
    "        ),\n",
    "        V1beta1ParameterSpec(\n",
    "            name=\"initlr\",\n",
    "            parameter_type=\"double\",\n",
    "            feasible_space=V1beta1FeasibleSpace(\n",
    "                min=0.05,\n",
    "                max=0.5\n",
    "            ),\n",
    "        )\n",
    "    ]\n",
    "    \n",
    "    metrics_collector_spec = V1beta1MetricsCollectorSpec(\n",
    "        collector=V1beta1CollectorSpec(kind=\"File\"),\n",
    "        source=V1beta1SourceSpec(\n",
    "            file_system_path=V1beta1FileSystemPath(\n",
    "                kind=\"File\",\n",
    "                path=\"/tmp/output.txt\"\n",
    "            )\n",
    "        )\n",
    "    )\n",
    "\n",
    "    trial_spec = {\n",
    "        \"apiVersion\": \"batch/v1\",\n",
    "        \"kind\": \"Job\",\n",
    "        \"spec\": {\n",
    "            \"template\": {\n",
    "                \"metadata\": {\n",
    "                    \"annotations\": {\n",
    "                        \"sidecar.istio.io/inject\": \"false\"\n",
    "                    }\n",
    "                },\n",
    "                \"spec\": {\n",
    "                    \"containers\": [\n",
    "                        {\n",
    "                            \"name\": \"training-container\",\n",
    "                            \"image\": \"quay.io/jeremie_ch/bert_model:latest\",\n",
    "                            \"resources\": {\n",
    "                                    \"limits\": {\n",
    "                                        \"nvidia.com/gpu\": 1\n",
    "                                    }\n",
    "                            },\n",
    "                            \"command\": [\n",
    "                                \"python\",\n",
    "                                \"/opt/bert_model.py\",\n",
    "                                \"--epochs=${trialParameters.Epochs}\",\n",
    "                                \"--initlr=${trialParameters.LearningRate}\"\n",
    "                            ]\n",
    "                        }\n",
    "                    ],\n",
    "                    \"restartPolicy\": \"Never\"\n",
    "                }\n",
    "            }\n",
    "        }\n",
    "    }\n",
    "\n",
    "    trial_template = V1beta1TrialTemplate(\n",
    "        primary_container_name=\"training-container\",\n",
    "        trial_parameters=[\n",
    "            V1beta1TrialParameterSpec(\n",
    "                name=\"Epochs\",\n",
    "                description=\"Number of epochs\",\n",
    "                reference=\"epochs\"\n",
    "            ),\n",
    "            V1beta1TrialParameterSpec(\n",
    "                name=\"LearningRate\",\n",
    "                description=\"Initial learning rate\",\n",
    "                reference=\"initlr\"\n",
    "            ),\n",
    "        ],\n",
    "        trial_spec=trial_spec\n",
    "    )\n",
    "\n",
    "    experiment_spec = V1beta1ExperimentSpec(\n",
    "        max_trial_count=max_trial_count,\n",
    "        max_failed_trial_count=max_failed_trial_count,\n",
    "        parallel_trial_count=parallel_trial_count,\n",
    "        objective=objective,\n",
    "        algorithm=algorithm,\n",
    "        parameters=parameters,\n",
    "        trial_template=trial_template,\n",
    "        metrics_collector_spec=metrics_collector_spec\n",
    "    )\n",
    "\n",
    "    katib_experiment_launcher_op = components.load_component_from_file(\"katib-pipelines-launcher.yaml\")\n",
    "    op = katib_experiment_launcher_op(\n",
    "        experiment_name=experiment_name,\n",
    "        experiment_namespace=experiment_namespace,\n",
    "        experiment_spec=ApiClient().sanitize_for_serialization(experiment_spec),\n",
    "        experiment_timeout_minutes=60,\n",
    "        delete_finished_experiment=False)\n",
    "\n",
    "    return op"
   ]
  },
  {
   "cell_type": "markdown",
   "id": "005829fa-51cc-46ca-b782-516f33a1baf7",
   "metadata": {},
   "source": [
    "This component returns a JSON object as output."
   ]
  },
  {
   "cell_type": "markdown",
   "id": "972f4adb-ecac-4965-84f8-b6f64fa9d923",
   "metadata": {},
   "source": [
    "## Print optimal results"
   ]
  },
  {
   "cell_type": "code",
   "execution_count": 218,
   "id": "54088438-d139-4965-9e44-74cb15450970",
   "metadata": {},
   "outputs": [],
   "source": [
    "def print_katib_results(katib_results):\n",
    "    import json\n",
    "    import pprint\n",
    "    katib_results_json = json.loads(katib_results)\n",
    "    print(\"Katib results:\")\n",
    "    pprint.pprint(katib_results_json)\n",
    "\n",
    "results_op = components.func_to_container_op(print_katib_results, base_image=\"quay.io/jeremie_ch/katib_results:latest\")"
   ]
  },
  {
   "cell_type": "markdown",
   "id": "39ce84fd-2663-4e43-85e9-505ab4563512",
   "metadata": {},
   "source": [
    "## Running the pipeline"
   ]
  },
  {
   "cell_type": "code",
   "execution_count": 219,
   "id": "61f95c9b-623a-4eae-aa7d-33f77c8d06bd",
   "metadata": {},
   "outputs": [
    {
     "data": {
      "text/html": [
       "<a href=\"/pipeline/#/experiments/details/a71794dc-9ce4-4fd8-99c1-88db7720fdf6\" target=\"_blank\" >Experiment details</a>."
      ],
      "text/plain": [
       "<IPython.core.display.HTML object>"
      ]
     },
     "metadata": {},
     "output_type": "display_data"
    },
    {
     "data": {
      "text/html": [
       "<a href=\"/pipeline/#/runs/details/8486c74e-a2ef-4847-a095-db6d5411d0be\" target=\"_blank\" >Run details</a>."
      ],
      "text/plain": [
       "<IPython.core.display.HTML object>"
      ]
     },
     "metadata": {},
     "output_type": "display_data"
    },
    {
     "name": "stdout",
     "output_type": "stream",
     "text": [
      "Run ID:  8486c74e-a2ef-4847-a095-db6d5411d0be\n"
     ]
    }
   ],
   "source": [
    "name=\"katib-e2e\"\n",
    "namespace=\"jeremie-chheang-ibm-com\"\n",
    "\n",
    "@dsl.pipeline(\n",
    "    name=\"End to End Pipeline\",\n",
    "    description=\"An end to end mnist example including hyperparameter tuning, train and inference\"\n",
    ")\n",
    "def mnist_pipeline(name=name, namespace=namespace):\n",
    "    # Run the hyperparameter tuning with Katib.\n",
    "    katib_op = launch_katib_experiment(name, namespace)\n",
    "    results_task = results_op(katib_op.output)\n",
    "    \n",
    "    \n",
    "kfp_client=kfp.Client()\n",
    "run_id = kfp_client.create_run_from_pipeline_func(mnist_pipeline, namespace=namespace, arguments={}).run_id\n",
    "print(\"Run ID: \", run_id)"
   ]
  },
  {
   "cell_type": "code",
   "execution_count": null,
   "id": "d299da96-d5ee-4a69-aa7e-f1b4373070b2",
   "metadata": {},
   "outputs": [],
   "source": []
  }
 ],
 "metadata": {
  "kernelspec": {
   "display_name": "Python 3 (ipykernel)",
   "language": "python",
   "name": "python3"
  },
  "language_info": {
   "codemirror_mode": {
    "name": "ipython",
    "version": 3
   },
   "file_extension": ".py",
   "mimetype": "text/x-python",
   "name": "python",
   "nbconvert_exporter": "python",
   "pygments_lexer": "ipython3",
   "version": "3.8.13"
  }
 },
 "nbformat": 4,
 "nbformat_minor": 5
}
